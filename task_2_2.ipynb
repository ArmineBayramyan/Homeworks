{
  "cells": [
    {
      "cell_type": "code",
      "execution_count": 1,
      "metadata": {
        "id": "yHfpBfpRD7w9"
      },
      "outputs": [],
      "source": [
        "from scipy import stats\n",
        "import matplotlib.pyplot as plt\n",
        "%matplotlib inline\n",
        "import pandas as pd\n",
        "import numpy as np"
      ]
    },
    {
      "cell_type": "markdown",
      "metadata": {
        "id": "gtItjo8xD7xA"
      },
      "source": [
        "### A/B тестирование"
      ]
    },
    {
      "cell_type": "markdown",
      "metadata": {
        "id": "R8K5Mq6GD7xC"
      },
      "source": [
        "В этом задании вы познакомитесь с A/B тестированием и примените полученные знания по статистике. \n",
        "\n",
        "Рассмотрим A/B тестирование на примере сайта. У сайта есть два дизайна - старый и новый, и мы хотим оценить, насколько новый дизайн лучше старого. Для этого пользователи сайта случайным образом разделяются на контрольную и тестовую группы. Контрольной группе показывается старая версия сайта, тестовой группе - измененная версия. Оценить изменение можно несколькими способами, самый простой - оценить конверсию. Конверсия - доля пользователей, совершивших заранее определенное действие(например подписка, нажатие на кнопку, заполнение формы)."
      ]
    },
    {
      "cell_type": "markdown",
      "metadata": {
        "id": "a4dz_YjLD7xD"
      },
      "source": [
        "### Описание данных"
      ]
    },
    {
      "cell_type": "markdown",
      "metadata": {
        "id": "1liz7ZoVD7xD"
      },
      "source": [
        "Для начала нужно загрузить данные из файла `a_b_testing.csv` при помощи функции `read_csv` из библиотеки `pandas`. В данном случае 1 - была совершена подписка на сайт, 0 - подписки не было. A - контрольная группа, B - тестовая группа."
      ]
    },
    {
      "cell_type": "markdown",
      "metadata": {
        "id": "pXafl4LVD7xD"
      },
      "source": [
        "Далее нужно выполнить следующие пункты, описание выходного формата содержится внутри каждого задания."
      ]
    },
    {
      "cell_type": "markdown",
      "metadata": {
        "id": "dO6vjQnnD7xE"
      },
      "source": [
        "### Доверительный интервал"
      ]
    },
    {
      "cell_type": "markdown",
      "metadata": {
        "id": "SXsPq8etD7xE"
      },
      "source": [
        "В видео про доверительный интервал мы рассмотрели, как можно аппроксимировать биномиальное распределение нормальным. В некоторых случаях параметры нормального распределения можно вывести математически и ниже мы рассмотрим как."
      ]
    },
    {
      "cell_type": "markdown",
      "metadata": {
        "id": "GuJP1ccrD7xF"
      },
      "source": [
        "Представим количество пользователей как случайную величину из биномиального распределения с параметрами  `n`  - количество пользователей и `p` - вероятность конверсии или как сумму  `n`  независимых бросаний монетки. Определим следующую случайную величину:\n",
        "\n",
        "$$Y = X_{1} + X_{2} + \\dots + X_{n} , \\, $$\n",
        "где случайная величина $X_{i}$ имеет распределение Бернулли. Для случайной величины $Y$ математическое ожидание и дисперсия равны:\n",
        "\n",
        "$$\\mu = np, \\, \\sigma^{2} = np\\cdot(1 - p)$$\n",
        "\n",
        "Далее применяя центральную предельную теорему(случайные величины $X_{i}$ распределены независимо и размер выборки большой), получаем что \n",
        "\n",
        "$$Y \\sim \\mathcal{N}(np \\, np\\cdot(1 - p))\\$$\n",
        "\n",
        "Мы перешли от биномиального распределения к нормальному. Следующий шаг - стандартизация нормального распределения:\n",
        "\n",
        "$$Z = \\frac{Y - np}{\\sqrt{np\\cdot(1-p)}} \\sim \\mathcal{N}(0, \\, 1) $$ \n",
        "\n",
        "Преобразуем выражение выше:\n",
        "\n",
        "$$Z = \\frac{Y - np}{\\sqrt{np\\cdot(1-p)}} = \\frac{\\frac{Y}{n} - p}{\\sqrt{\\frac{p(1-p)}{n}}} \\sim \\mathcal{N}(0, \\, 1) $$"
      ]
    },
    {
      "cell_type": "markdown",
      "metadata": {
        "id": "lpzhEiHbD7xG"
      },
      "source": [
        "Так как среднее значение по выборке - это наблюдаемый процент конверсии, то доверительный интервал будет выглядеть следующим образом:"
      ]
    },
    {
      "cell_type": "markdown",
      "metadata": {
        "id": "eHoZJtw0D7xG"
      },
      "source": [
        "$${P}\\left(p - z_{1-\\frac{\\alpha}{2}} \\sqrt{\\frac{p(1-p)}{n}} \\le \\mu \\le p + z_{1-\\frac{\\alpha}{2}}\\sqrt{\\frac{p(1-p)}{n}}\\right) = 1-\\alpha$$"
      ]
    },
    {
      "cell_type": "markdown",
      "metadata": {
        "id": "gpjDwgesD7xG"
      },
      "source": [
        "### ЗАДАНИЕ"
      ]
    },
    {
      "cell_type": "markdown",
      "metadata": {
        "id": "fAxqHL_7D7xH"
      },
      "source": [
        "Найдите доверительный интервал для средней конверсии пользователей из контрольной выборки с уровнем значимости 95%. Округлите левую и правую границу с точностью до двух знаков после запятой. Запишите значения левой и правой границ."
      ]
    },
    {
      "cell_type": "code",
      "execution_count": 2,
      "metadata": {
        "id": "gQ9bwljfD7xH"
      },
      "outputs": [],
      "source": [
        "df = pd.read_csv('a_b_testing.csv')"
      ]
    },
    {
      "cell_type": "code",
      "source": [
        "train_df = df[df[\"group\"] == \"A\"]\n",
        "test_df = df[df[\"group\"] == \"B\"]"
      ],
      "metadata": {
        "id": "oSGEjReNJ7oR"
      },
      "execution_count": 8,
      "outputs": []
    },
    {
      "cell_type": "markdown",
      "metadata": {
        "id": "lZvNWv07D7xH"
      },
      "source": [
        "#### РЕШЕНИЕ"
      ]
    },
    {
      "cell_type": "code",
      "execution_count": 16,
      "metadata": {
        "id": "WRTQBhuzD7xH",
        "colab": {
          "base_uri": "https://localhost:8080/"
        },
        "outputId": "110f2fb6-527e-4108-95dc-3519e2d44c11"
      },
      "outputs": [
        {
          "output_type": "stream",
          "name": "stdout",
          "text": [
            "Confidence Interval:  (0.39, 0.43)\n"
          ]
        }
      ],
      "source": [
        "X = sum(train_df.converted)\n",
        "N = len(train_df)\n",
        "\n",
        "p = X / N\n",
        "s = np.sqrt(p * (1 - p) / N)\n",
        "\n",
        "conf_level = 0.95\n",
        "z_value = abs(stats.norm.ppf((1 - conf_level) / 2))\n",
        "\n",
        "lower_bound = p - z_value * s\n",
        "upper_bound = p + z_value * s\n",
        "\n",
        "lower_bound = round(lower_bound, 2)\n",
        "upper_bound = round(upper_bound, 2)\n",
        "confidence_interval = (lower_bound, upper_bound)\n",
        "\n",
        "print(\"Confidence Interval: \", confidence_interval)"
      ]
    },
    {
      "cell_type": "markdown",
      "metadata": {
        "id": "8Y7P2ie-D7xH"
      },
      "source": [
        "### Задача A/B тестирования"
      ]
    },
    {
      "cell_type": "markdown",
      "metadata": {
        "id": "lZv5mmzCD7xI"
      },
      "source": [
        "Рассмотрим независимые выборки $X$ и $Y$ для которых есть $\\mu_x$ и $\\mu_y$, определяющие среднее значение распределения.\n",
        "\n",
        "Рассматривается следующая гипотеза:\n",
        "$$\n",
        "H_0: \\mu_x = \\mu_y\n",
        "$$\n",
        "против альтернативы:\n",
        "\n",
        "$$\n",
        "H_1: \\mu_x \\ne \\mu_y.\n",
        "$$"
      ]
    },
    {
      "cell_type": "markdown",
      "metadata": {
        "id": "rVPqLhktD7xI"
      },
      "source": [
        "Если гипотеза $H_0$ отвергается, то показатель действительно поменялся."
      ]
    },
    {
      "cell_type": "markdown",
      "metadata": {
        "id": "Z6xkbmI1D7xI"
      },
      "source": [
        "Также можно тест можно записать и другим способом:\n",
        "$$\n",
        "H_0: \\mu_x \\le \\mu_y\n",
        "$$\n",
        "\n",
        "против альтернативы:\n",
        "\n",
        "$$\n",
        "H_1: \\mu_x > \\mu_y\n",
        "$$"
      ]
    },
    {
      "cell_type": "markdown",
      "metadata": {
        "id": "V-kmXJBGD7xI"
      },
      "source": [
        "### Задание по статистике Стьюдента "
      ]
    },
    {
      "cell_type": "markdown",
      "metadata": {
        "id": "CPl4ahGeD7xI"
      },
      "source": [
        "Найдите значение статистики Стьюдента в предположении независимости выборок по формуле:"
      ]
    },
    {
      "cell_type": "markdown",
      "metadata": {
        "id": "QJetqVn1D7xJ"
      },
      "source": [
        "$$\n",
        "T(X, Y) = \\frac{\\bar{X} - \\bar{Y}}{\\sqrt{\\frac{s_x^2}{n} + \\frac{s_y^2}{m}}}\n",
        "$$\n",
        "\n",
        "где `n` - размер контрольной выборки, `m`  - размер тестовой выборки."
      ]
    },
    {
      "cell_type": "markdown",
      "metadata": {
        "id": "icAT8N4SD7xJ"
      },
      "source": [
        "### РЕШЕНИЕ"
      ]
    },
    {
      "cell_type": "code",
      "execution_count": 19,
      "metadata": {
        "id": "PV9fEZrGD7xJ",
        "colab": {
          "base_uri": "https://localhost:8080/"
        },
        "outputId": "3f51e74f-63ca-4d5b-b3bd-e0abe6b724b8"
      },
      "outputs": [
        {
          "output_type": "stream",
          "name": "stdout",
          "text": [
            "t-statistic:  -1.6123875817242772\n"
          ]
        }
      ],
      "source": [
        "X_bar = train_df['converted'].mean()\n",
        "Y_bar = test_df['converted'].mean()\n",
        "\n",
        "s_X = train_df['converted'].std(ddof=1)\n",
        "s_Y = test_df['converted'].std(ddof=1)\n",
        "\n",
        "n = len(train_df)\n",
        "m = len(test_df)\n",
        "\n",
        "numerator = X_bar - Y_bar\n",
        "denominator = np.sqrt((s_X ** 2 / n) + (s_Y ** 2 / m))\n",
        "t_statistic = numerator / denominator\n",
        "\n",
        "print(\"t-statistic: \", t_statistic)"
      ]
    },
    {
      "cell_type": "markdown",
      "metadata": {
        "id": "OmJ3TRxbD7xJ"
      },
      "source": [
        "### Статистика Стьюдента из библиотеки Scipy"
      ]
    },
    {
      "cell_type": "markdown",
      "metadata": {
        "id": "oQF8TG0BD7xJ"
      },
      "source": [
        "Найдите p-value для статистики Стьюдента, используя функцию `stats.ttest_ind`."
      ]
    },
    {
      "cell_type": "markdown",
      "metadata": {
        "id": "_CFuf3WLD7xJ"
      },
      "source": [
        "### РЕШЕНИЕ"
      ]
    },
    {
      "cell_type": "code",
      "execution_count": 20,
      "metadata": {
        "id": "yLSCzyr1D7xK",
        "colab": {
          "base_uri": "https://localhost:8080/"
        },
        "outputId": "0e274ca4-af58-49c5-992e-3dc2d93ce823"
      },
      "outputs": [
        {
          "output_type": "stream",
          "name": "stdout",
          "text": [
            "t-statistic:  -1.6126205013707797\n",
            "p-value:  0.10690590820177126\n"
          ]
        }
      ],
      "source": [
        "from scipy.stats import ttest_ind\n",
        "\n",
        "x = train_df['converted']\n",
        "y = test_df['converted']\n",
        "\n",
        "t_statistic, p_value = ttest_ind(x, y)\n",
        "\n",
        "print(\"t-statistic: \", t_statistic)\n",
        "print(\"p-value: \", p_value)"
      ]
    },
    {
      "cell_type": "markdown",
      "metadata": {
        "id": "XsDUU44nD7xK"
      },
      "source": [
        "Дополнительная проверка: значение статистики Стьюдента, посчитанная двумя способами, должны совпадать."
      ]
    }
  ],
  "metadata": {
    "kernelspec": {
      "display_name": "Python 3.8.10 64-bit",
      "language": "python",
      "name": "python3"
    },
    "language_info": {
      "codemirror_mode": {
        "name": "ipython",
        "version": 3
      },
      "file_extension": ".py",
      "mimetype": "text/x-python",
      "name": "python",
      "nbconvert_exporter": "python",
      "pygments_lexer": "ipython3",
      "version": "3.8.10"
    },
    "toc": {
      "nav_menu": {},
      "number_sections": true,
      "sideBar": true,
      "skip_h1_title": false,
      "toc_cell": false,
      "toc_position": {},
      "toc_section_display": "block",
      "toc_window_display": false
    },
    "varInspector": {
      "cols": {
        "lenName": 16,
        "lenType": 16,
        "lenVar": 40
      },
      "kernels_config": {
        "python": {
          "delete_cmd_postfix": "",
          "delete_cmd_prefix": "del ",
          "library": "var_list.py",
          "varRefreshCmd": "print(var_dic_list())"
        },
        "r": {
          "delete_cmd_postfix": ") ",
          "delete_cmd_prefix": "rm(",
          "library": "var_list.r",
          "varRefreshCmd": "cat(var_dic_list()) "
        }
      },
      "position": {
        "height": "349px",
        "left": "1068px",
        "right": "20px",
        "top": "120px",
        "width": "352px"
      },
      "types_to_exclude": [
        "module",
        "function",
        "builtin_function_or_method",
        "instance",
        "_Feature"
      ],
      "window_display": false
    },
    "vscode": {
      "interpreter": {
        "hash": "31f2aee4e71d21fbe5cf8b01ff0e069b9275f58929596ceb00d14d90e3e16cd6"
      }
    },
    "colab": {
      "provenance": []
    }
  },
  "nbformat": 4,
  "nbformat_minor": 0
}